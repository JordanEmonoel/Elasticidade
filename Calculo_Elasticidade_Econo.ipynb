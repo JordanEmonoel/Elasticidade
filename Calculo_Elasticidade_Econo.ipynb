{
 "cells": [
  {
   "cell_type": "markdown",
   "id": "023d1316",
   "metadata": {},
   "source": [
    "## Fiz umas funções que calculam os diferentes tipos de elasticidade"
   ]
  },
  {
   "cell_type": "code",
   "execution_count": 1,
   "id": "6931aaa9",
   "metadata": {},
   "outputs": [
    {
     "name": "stdout",
     "output_type": "stream",
     "text": [
      "A elasticidade-preço da demanda é: -2.80\n"
     ]
    }
   ],
   "source": [
    "def elasticidade_preco_demanda(qtd_di, qtd_df, pi, pf):\n",
    "    # Calcula a variação percentual na quantidade demandada e no preço\n",
    "    var_d = (qtd_df - qtd_di) / qtd_di\n",
    "    var_p = (pf - pi) / pi\n",
    "\n",
    "    # Calcula a elasticidade-preço da demanda \n",
    "    elast = var_d / var_p\n",
    "\n",
    "    return elast\n",
    "\n",
    "# Exemplo \n",
    "resultado_elasticidade = elasticidade_preco_demanda(1500, 2200, 12, 10)\n",
    "print(f\"A elasticidade-preço da demanda é: {resultado_elasticidade:.2f}\")\n"
   ]
  },
  {
   "cell_type": "code",
   "execution_count": 3,
   "id": "447b4728",
   "metadata": {},
   "outputs": [
    {
     "name": "stdout",
     "output_type": "stream",
     "text": [
      "A elasticidade-cruzada da demanda é: -1.00\n"
     ]
    }
   ],
   "source": [
    "def elasticidade_cruzada(qtd_demandada_x_inicial, qtd_demandada_x_final, preco_y_inicial, preco_y_final):\n",
    "    # Calcula a variação percentual na quantidade demandada de X e no preço de Y\n",
    "    variacao_qtd_demandada_x = (qtd_demandada_x_final - qtd_demandada_x_inicial) / qtd_demandada_x_inicial\n",
    "    variacao_preco_y = (preco_y_final - preco_y_inicial) / preco_y_inicial\n",
    "\n",
    "    # Calcula a elasticidade-cruzada da demanda\n",
    "    elasticidade_cruzada = variacao_qtd_demandada_x / variacao_preco_y\n",
    "\n",
    "    return elasticidade_cruzada\n",
    "\n",
    "\n",
    "# Exemplo\n",
    "resultado_elasticidade_cruzada = elasticidade_cruzada(100,120,5,4)\n",
    "print(f\"A elasticidade-cruzada da demanda é: {resultado_elasticidade_cruzada:.2f}\")"
   ]
  },
  {
   "cell_type": "code",
   "execution_count": 2,
   "id": "fb8d578f",
   "metadata": {},
   "outputs": [
    {
     "name": "stdout",
     "output_type": "stream",
     "text": [
      "A elasticidade-renda da demanda é: 1.87\n",
      "Classificação do bem: Bem normal\n"
     ]
    }
   ],
   "source": [
    "def elasticidade_renda_e_classificacao(qtd_di, qtd_df, renda_i, renda_f):\n",
    "    # Calcula a variação percentual na quantidade demandada e na renda\n",
    "    var_d = (qtd_df - qtd_di) / qtd_di\n",
    "    var_renda = (renda_f - renda_i) / renda_i\n",
    "\n",
    "    # Calcula a elasticidade-renda da demanda\n",
    "    elasticidade_renda = var_d / var_renda\n",
    "\n",
    "    # Classifica o bem\n",
    "    if elasticidade_renda > 0:\n",
    "        classificacao_bem = \"Bem normal\"\n",
    "    elif elasticidade_renda < 0:\n",
    "        classificacao_bem = \"Bem inferior\"\n",
    "    else:\n",
    "        classificacao_bem = \"Bem de renda constante (Bem neutro)\"\n",
    "\n",
    "    return elasticidade_renda, classificacao_bem\n",
    "\n",
    "# Exemplo\n",
    "\n",
    "qtd_di = 1500\n",
    "qtd_df = 2200\n",
    "renda_i = 2000\n",
    "renda_f = 2500\n",
    "\n",
    "resultado_elasticidade_renda, classificacao_bem = elasticidade_renda_e_classificacao(1500,2200,2000,2500)\n",
    "\n",
    "print(f\"A elasticidade-renda da demanda é: {resultado_elasticidade_renda:.2f}\")\n",
    "print(f\"Classificação do bem: {classificacao_bem}\")"
   ]
  },
  {
   "cell_type": "code",
   "execution_count": 4,
   "id": "08366acd",
   "metadata": {},
   "outputs": [
    {
     "name": "stdout",
     "output_type": "stream",
     "text": [
      "A elasticidade da oferta é: 1.00\n"
     ]
    }
   ],
   "source": [
    "def elasticidade_oferta(qto_di, qto_df, pi, pf):\n",
    "    # Calcula a variação percentual na quantidade ofertada e no preço\n",
    "    variacao_qtd_ofertada = (qto_df - qto_di) / qto_di\n",
    "    variacao_preco = (pf - pi) / pi\n",
    "\n",
    "    # Calcula a elasticidade da oferta (EO)\n",
    "    elasticidade_oferta = variacao_qtd_ofertada / variacao_preco\n",
    "\n",
    "    return elasticidade_oferta\n",
    "\n",
    "# Exemplo\n",
    "resultado_elasticidade_oferta = elasticidade_oferta(1200,1800,10,15)\n",
    "print(f\"A elasticidade da oferta é: {resultado_elasticidade_oferta:.2f}\")\n"
   ]
  },
  {
   "cell_type": "code",
   "execution_count": null,
   "id": "64941aca",
   "metadata": {},
   "outputs": [],
   "source": []
  },
  {
   "cell_type": "code",
   "execution_count": null,
   "id": "e0bee975",
   "metadata": {},
   "outputs": [],
   "source": []
  },
  {
   "cell_type": "code",
   "execution_count": null,
   "id": "8da9b3c3",
   "metadata": {},
   "outputs": [],
   "source": []
  }
 ],
 "metadata": {
  "kernelspec": {
   "display_name": "Python 3 (ipykernel)",
   "language": "python",
   "name": "python3"
  },
  "language_info": {
   "codemirror_mode": {
    "name": "ipython",
    "version": 3
   },
   "file_extension": ".py",
   "mimetype": "text/x-python",
   "name": "python",
   "nbconvert_exporter": "python",
   "pygments_lexer": "ipython3",
   "version": "3.9.13"
  }
 },
 "nbformat": 4,
 "nbformat_minor": 5
}
